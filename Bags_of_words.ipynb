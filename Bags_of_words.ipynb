{
  "nbformat": 4,
  "nbformat_minor": 0,
  "metadata": {
    "colab": {
      "name": "Bags_of_words.ipynb",
      "version": "0.3.2",
      "provenance": [],
      "collapsed_sections": []
    },
    "kernelspec": {
      "name": "python3",
      "display_name": "Python 3"
    }
  },
  "cells": [
    {
      "cell_type": "code",
      "metadata": {
        "id": "Xt96d3Rm66eR",
        "colab_type": "code",
        "colab": {}
      },
      "source": [
        "#Declaring all sentences and assigning to a document\n",
        "sentence1=\"This is my code on bag of words.\"\n",
        "sentence2=\"Bag of words is a NLP technique.\"\n",
        "sentence3=\"I will explain it to you in a simple way\"\n"
      ],
      "execution_count": 0,
      "outputs": []
    },
    {
      "cell_type": "code",
      "metadata": {
        "id": "N1YJgZDb69Bg",
        "colab_type": "code",
        "colab": {}
      },
      "source": [
        "from sklearn.feature_extraction.text import CountVectorizer\n",
        "\n",
        "#Making a list or Document from all sentences \n",
        "Doc=[sentence1,sentence2,sentence3]\n",
        "\n",
        "#Initializing CountVectorizer from sklearn\n",
        "vectorizer = CountVectorizer(stop_words='english')\n"
      ],
      "execution_count": 0,
      "outputs": []
    },
    {
      "cell_type": "code",
      "metadata": {
        "id": "x2yjjLg17NV0",
        "colab_type": "code",
        "colab": {}
      },
      "source": [
        "\n",
        "X = vectorizer.fit_transform(Doc)"
      ],
      "execution_count": 0,
      "outputs": []
    },
    {
      "cell_type": "code",
      "metadata": {
        "id": "IVaMrW4d7aAr",
        "colab_type": "code",
        "outputId": "e022be06-ad4e-4434-a4ab-eefe9cdb26e4",
        "colab": {
          "base_uri": "https://localhost:8080/",
          "height": 34
        }
      },
      "source": [
        "print(vectorizer.get_feature_names())"
      ],
      "execution_count": 4,
      "outputs": [
        {
          "output_type": "stream",
          "text": [
            "['bag', 'code', 'explain', 'nlp', 'simple', 'technique', 'way', 'words']\n"
          ],
          "name": "stdout"
        }
      ]
    },
    {
      "cell_type": "code",
      "metadata": {
        "id": "fAsvl_xy7c1Q",
        "colab_type": "code",
        "outputId": "f6249b2c-26bc-4089-ca91-b5b5cb04082c",
        "colab": {
          "base_uri": "https://localhost:8080/",
          "height": 68
        }
      },
      "source": [
        "print(X.toarray()) "
      ],
      "execution_count": 5,
      "outputs": [
        {
          "output_type": "stream",
          "text": [
            "[[1 1 0 0 0 0 0 1]\n",
            " [1 0 0 1 0 1 0 1]\n",
            " [0 0 1 0 1 0 1 0]]\n"
          ],
          "name": "stdout"
        }
      ]
    }
  ]
}